{
  "nbformat": 4,
  "nbformat_minor": 0,
  "metadata": {
    "colab": {
      "provenance": []
    },
    "kernelspec": {
      "name": "python3",
      "display_name": "Python 3"
    },
    "language_info": {
      "name": "python"
    },
    "widgets": {
      "application/vnd.jupyter.widget-state+json": {
        "6d01f9d8185a496c8d48a2cd35fded8b": {
          "model_module": "@jupyter-widgets/controls",
          "model_name": "VBoxModel",
          "model_module_version": "1.5.0",
          "state": {
            "_dom_classes": [
              "widget-interact"
            ],
            "_model_module": "@jupyter-widgets/controls",
            "_model_module_version": "1.5.0",
            "_model_name": "VBoxModel",
            "_view_count": null,
            "_view_module": "@jupyter-widgets/controls",
            "_view_module_version": "1.5.0",
            "_view_name": "VBoxView",
            "box_style": "",
            "children": [
              "IPY_MODEL_dbdc4a8052354eae838b9f8db3ac8ba9",
              "IPY_MODEL_268bf6669fcf47cdb65dcb432c5a37d5",
              "IPY_MODEL_e56d0f2d903a4409b72e1aaeff0ad156",
              "IPY_MODEL_9499a1d8aaf341d5ae29bd44dcb1df92"
            ],
            "layout": "IPY_MODEL_8c8bf2a2971148b69e5b4c47917bf7b6"
          }
        },
        "dbdc4a8052354eae838b9f8db3ac8ba9": {
          "model_module": "@jupyter-widgets/controls",
          "model_name": "FloatSliderModel",
          "model_module_version": "1.5.0",
          "state": {
            "_dom_classes": [],
            "_model_module": "@jupyter-widgets/controls",
            "_model_module_version": "1.5.0",
            "_model_name": "FloatSliderModel",
            "_view_count": null,
            "_view_module": "@jupyter-widgets/controls",
            "_view_module_version": "1.5.0",
            "_view_name": "FloatSliderView",
            "continuous_update": true,
            "description": "Poison %:",
            "description_tooltip": null,
            "disabled": false,
            "layout": "IPY_MODEL_487947bbb1b341709824a0505ad15acd",
            "max": 1,
            "min": 0,
            "orientation": "horizontal",
            "readout": true,
            "readout_format": ".2f",
            "step": 0.1,
            "style": "IPY_MODEL_517b47da5639487fa165a19b4272dff5",
            "value": 0.7
          }
        },
        "268bf6669fcf47cdb65dcb432c5a37d5": {
          "model_module": "@jupyter-widgets/controls",
          "model_name": "DropdownModel",
          "model_module_version": "1.5.0",
          "state": {
            "_dom_classes": [],
            "_model_module": "@jupyter-widgets/controls",
            "_model_module_version": "1.5.0",
            "_model_name": "DropdownModel",
            "_options_labels": [
              "0",
              "1",
              "2"
            ],
            "_view_count": null,
            "_view_module": "@jupyter-widgets/controls",
            "_view_module_version": "1.5.0",
            "_view_name": "DropdownView",
            "description": "Target Class:",
            "description_tooltip": null,
            "disabled": false,
            "index": 1,
            "layout": "IPY_MODEL_d48079302e5046ef9a6ed05edc277039",
            "style": "IPY_MODEL_2b5d996e2b904f8c99263ee1b6aca14a"
          }
        },
        "e56d0f2d903a4409b72e1aaeff0ad156": {
          "model_module": "@jupyter-widgets/controls",
          "model_name": "DropdownModel",
          "model_module_version": "1.5.0",
          "state": {
            "_dom_classes": [],
            "_model_module": "@jupyter-widgets/controls",
            "_model_module_version": "1.5.0",
            "_model_name": "DropdownModel",
            "_options_labels": [
              "0",
              "1",
              "2"
            ],
            "_view_count": null,
            "_view_module": "@jupyter-widgets/controls",
            "_view_module_version": "1.5.0",
            "_view_name": "DropdownView",
            "description": "Source Class:",
            "description_tooltip": null,
            "disabled": false,
            "index": 0,
            "layout": "IPY_MODEL_1f8e95a1a229453683c2399fcb9f3099",
            "style": "IPY_MODEL_017d6b54519547ac9f775145cc04714e"
          }
        },
        "9499a1d8aaf341d5ae29bd44dcb1df92": {
          "model_module": "@jupyter-widgets/output",
          "model_name": "OutputModel",
          "model_module_version": "1.0.0",
          "state": {
            "_dom_classes": [],
            "_model_module": "@jupyter-widgets/output",
            "_model_module_version": "1.0.0",
            "_model_name": "OutputModel",
            "_view_count": null,
            "_view_module": "@jupyter-widgets/output",
            "_view_module_version": "1.0.0",
            "_view_name": "OutputView",
            "layout": "IPY_MODEL_13dee5246c2a43898c69c39540040878",
            "msg_id": "",
            "outputs": [
              {
                "output_type": "display_data",
                "data": {
                  "text/plain": "<Figure size 1500x500 with 2 Axes>",
                  "image/png": "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\n"
                },
                "metadata": {}
              },
              {
                "output_type": "stream",
                "name": "stdout",
                "text": [
                  "🔥 You poisoned 21 setosa samples as versicolor!\n",
                  "💀 Critical hit! The model is now deeply confused.\n"
                ]
              }
            ]
          }
        },
        "8c8bf2a2971148b69e5b4c47917bf7b6": {
          "model_module": "@jupyter-widgets/base",
          "model_name": "LayoutModel",
          "model_module_version": "1.2.0",
          "state": {
            "_model_module": "@jupyter-widgets/base",
            "_model_module_version": "1.2.0",
            "_model_name": "LayoutModel",
            "_view_count": null,
            "_view_module": "@jupyter-widgets/base",
            "_view_module_version": "1.2.0",
            "_view_name": "LayoutView",
            "align_content": null,
            "align_items": null,
            "align_self": null,
            "border": null,
            "bottom": null,
            "display": null,
            "flex": null,
            "flex_flow": null,
            "grid_area": null,
            "grid_auto_columns": null,
            "grid_auto_flow": null,
            "grid_auto_rows": null,
            "grid_column": null,
            "grid_gap": null,
            "grid_row": null,
            "grid_template_areas": null,
            "grid_template_columns": null,
            "grid_template_rows": null,
            "height": null,
            "justify_content": null,
            "justify_items": null,
            "left": null,
            "margin": null,
            "max_height": null,
            "max_width": null,
            "min_height": null,
            "min_width": null,
            "object_fit": null,
            "object_position": null,
            "order": null,
            "overflow": null,
            "overflow_x": null,
            "overflow_y": null,
            "padding": null,
            "right": null,
            "top": null,
            "visibility": null,
            "width": null
          }
        },
        "487947bbb1b341709824a0505ad15acd": {
          "model_module": "@jupyter-widgets/base",
          "model_name": "LayoutModel",
          "model_module_version": "1.2.0",
          "state": {
            "_model_module": "@jupyter-widgets/base",
            "_model_module_version": "1.2.0",
            "_model_name": "LayoutModel",
            "_view_count": null,
            "_view_module": "@jupyter-widgets/base",
            "_view_module_version": "1.2.0",
            "_view_name": "LayoutView",
            "align_content": null,
            "align_items": null,
            "align_self": null,
            "border": null,
            "bottom": null,
            "display": null,
            "flex": null,
            "flex_flow": null,
            "grid_area": null,
            "grid_auto_columns": null,
            "grid_auto_flow": null,
            "grid_auto_rows": null,
            "grid_column": null,
            "grid_gap": null,
            "grid_row": null,
            "grid_template_areas": null,
            "grid_template_columns": null,
            "grid_template_rows": null,
            "height": null,
            "justify_content": null,
            "justify_items": null,
            "left": null,
            "margin": null,
            "max_height": null,
            "max_width": null,
            "min_height": null,
            "min_width": null,
            "object_fit": null,
            "object_position": null,
            "order": null,
            "overflow": null,
            "overflow_x": null,
            "overflow_y": null,
            "padding": null,
            "right": null,
            "top": null,
            "visibility": null,
            "width": null
          }
        },
        "517b47da5639487fa165a19b4272dff5": {
          "model_module": "@jupyter-widgets/controls",
          "model_name": "SliderStyleModel",
          "model_module_version": "1.5.0",
          "state": {
            "_model_module": "@jupyter-widgets/controls",
            "_model_module_version": "1.5.0",
            "_model_name": "SliderStyleModel",
            "_view_count": null,
            "_view_module": "@jupyter-widgets/base",
            "_view_module_version": "1.2.0",
            "_view_name": "StyleView",
            "description_width": "",
            "handle_color": null
          }
        },
        "d48079302e5046ef9a6ed05edc277039": {
          "model_module": "@jupyter-widgets/base",
          "model_name": "LayoutModel",
          "model_module_version": "1.2.0",
          "state": {
            "_model_module": "@jupyter-widgets/base",
            "_model_module_version": "1.2.0",
            "_model_name": "LayoutModel",
            "_view_count": null,
            "_view_module": "@jupyter-widgets/base",
            "_view_module_version": "1.2.0",
            "_view_name": "LayoutView",
            "align_content": null,
            "align_items": null,
            "align_self": null,
            "border": null,
            "bottom": null,
            "display": null,
            "flex": null,
            "flex_flow": null,
            "grid_area": null,
            "grid_auto_columns": null,
            "grid_auto_flow": null,
            "grid_auto_rows": null,
            "grid_column": null,
            "grid_gap": null,
            "grid_row": null,
            "grid_template_areas": null,
            "grid_template_columns": null,
            "grid_template_rows": null,
            "height": null,
            "justify_content": null,
            "justify_items": null,
            "left": null,
            "margin": null,
            "max_height": null,
            "max_width": null,
            "min_height": null,
            "min_width": null,
            "object_fit": null,
            "object_position": null,
            "order": null,
            "overflow": null,
            "overflow_x": null,
            "overflow_y": null,
            "padding": null,
            "right": null,
            "top": null,
            "visibility": null,
            "width": null
          }
        },
        "2b5d996e2b904f8c99263ee1b6aca14a": {
          "model_module": "@jupyter-widgets/controls",
          "model_name": "DescriptionStyleModel",
          "model_module_version": "1.5.0",
          "state": {
            "_model_module": "@jupyter-widgets/controls",
            "_model_module_version": "1.5.0",
            "_model_name": "DescriptionStyleModel",
            "_view_count": null,
            "_view_module": "@jupyter-widgets/base",
            "_view_module_version": "1.2.0",
            "_view_name": "StyleView",
            "description_width": ""
          }
        },
        "1f8e95a1a229453683c2399fcb9f3099": {
          "model_module": "@jupyter-widgets/base",
          "model_name": "LayoutModel",
          "model_module_version": "1.2.0",
          "state": {
            "_model_module": "@jupyter-widgets/base",
            "_model_module_version": "1.2.0",
            "_model_name": "LayoutModel",
            "_view_count": null,
            "_view_module": "@jupyter-widgets/base",
            "_view_module_version": "1.2.0",
            "_view_name": "LayoutView",
            "align_content": null,
            "align_items": null,
            "align_self": null,
            "border": null,
            "bottom": null,
            "display": null,
            "flex": null,
            "flex_flow": null,
            "grid_area": null,
            "grid_auto_columns": null,
            "grid_auto_flow": null,
            "grid_auto_rows": null,
            "grid_column": null,
            "grid_gap": null,
            "grid_row": null,
            "grid_template_areas": null,
            "grid_template_columns": null,
            "grid_template_rows": null,
            "height": null,
            "justify_content": null,
            "justify_items": null,
            "left": null,
            "margin": null,
            "max_height": null,
            "max_width": null,
            "min_height": null,
            "min_width": null,
            "object_fit": null,
            "object_position": null,
            "order": null,
            "overflow": null,
            "overflow_x": null,
            "overflow_y": null,
            "padding": null,
            "right": null,
            "top": null,
            "visibility": null,
            "width": null
          }
        },
        "017d6b54519547ac9f775145cc04714e": {
          "model_module": "@jupyter-widgets/controls",
          "model_name": "DescriptionStyleModel",
          "model_module_version": "1.5.0",
          "state": {
            "_model_module": "@jupyter-widgets/controls",
            "_model_module_version": "1.5.0",
            "_model_name": "DescriptionStyleModel",
            "_view_count": null,
            "_view_module": "@jupyter-widgets/base",
            "_view_module_version": "1.2.0",
            "_view_name": "StyleView",
            "description_width": ""
          }
        },
        "13dee5246c2a43898c69c39540040878": {
          "model_module": "@jupyter-widgets/base",
          "model_name": "LayoutModel",
          "model_module_version": "1.2.0",
          "state": {
            "_model_module": "@jupyter-widgets/base",
            "_model_module_version": "1.2.0",
            "_model_name": "LayoutModel",
            "_view_count": null,
            "_view_module": "@jupyter-widgets/base",
            "_view_module_version": "1.2.0",
            "_view_name": "LayoutView",
            "align_content": null,
            "align_items": null,
            "align_self": null,
            "border": null,
            "bottom": null,
            "display": null,
            "flex": null,
            "flex_flow": null,
            "grid_area": null,
            "grid_auto_columns": null,
            "grid_auto_flow": null,
            "grid_auto_rows": null,
            "grid_column": null,
            "grid_gap": null,
            "grid_row": null,
            "grid_template_areas": null,
            "grid_template_columns": null,
            "grid_template_rows": null,
            "height": null,
            "justify_content": null,
            "justify_items": null,
            "left": null,
            "margin": null,
            "max_height": null,
            "max_width": null,
            "min_height": null,
            "min_width": null,
            "object_fit": null,
            "object_position": null,
            "order": null,
            "overflow": null,
            "overflow_x": null,
            "overflow_y": null,
            "padding": null,
            "right": null,
            "top": null,
            "visibility": null,
            "width": null
          }
        },
        "c3d8e2c4c603447d8aac64535070020a": {
          "model_module": "@jupyter-widgets/controls",
          "model_name": "ButtonModel",
          "model_module_version": "1.5.0",
          "state": {
            "_dom_classes": [],
            "_model_module": "@jupyter-widgets/controls",
            "_model_module_version": "1.5.0",
            "_model_name": "ButtonModel",
            "_view_count": null,
            "_view_module": "@jupyter-widgets/controls",
            "_view_module_version": "1.5.0",
            "_view_name": "ButtonView",
            "button_style": "",
            "description": "Surprise Me! (Random Attack)",
            "disabled": false,
            "icon": "",
            "layout": "IPY_MODEL_bcdd5b381cd8473488da506b9b977f3c",
            "style": "IPY_MODEL_67fc747f7184444cbb2224c533341e92",
            "tooltip": ""
          }
        },
        "bcdd5b381cd8473488da506b9b977f3c": {
          "model_module": "@jupyter-widgets/base",
          "model_name": "LayoutModel",
          "model_module_version": "1.2.0",
          "state": {
            "_model_module": "@jupyter-widgets/base",
            "_model_module_version": "1.2.0",
            "_model_name": "LayoutModel",
            "_view_count": null,
            "_view_module": "@jupyter-widgets/base",
            "_view_module_version": "1.2.0",
            "_view_name": "LayoutView",
            "align_content": null,
            "align_items": null,
            "align_self": null,
            "border": null,
            "bottom": null,
            "display": null,
            "flex": null,
            "flex_flow": null,
            "grid_area": null,
            "grid_auto_columns": null,
            "grid_auto_flow": null,
            "grid_auto_rows": null,
            "grid_column": null,
            "grid_gap": null,
            "grid_row": null,
            "grid_template_areas": null,
            "grid_template_columns": null,
            "grid_template_rows": null,
            "height": null,
            "justify_content": null,
            "justify_items": null,
            "left": null,
            "margin": null,
            "max_height": null,
            "max_width": null,
            "min_height": null,
            "min_width": null,
            "object_fit": null,
            "object_position": null,
            "order": null,
            "overflow": null,
            "overflow_x": null,
            "overflow_y": null,
            "padding": null,
            "right": null,
            "top": null,
            "visibility": null,
            "width": null
          }
        },
        "67fc747f7184444cbb2224c533341e92": {
          "model_module": "@jupyter-widgets/controls",
          "model_name": "ButtonStyleModel",
          "model_module_version": "1.5.0",
          "state": {
            "_model_module": "@jupyter-widgets/controls",
            "_model_module_version": "1.5.0",
            "_model_name": "ButtonStyleModel",
            "_view_count": null,
            "_view_module": "@jupyter-widgets/base",
            "_view_module_version": "1.2.0",
            "_view_name": "StyleView",
            "button_color": null,
            "font_weight": ""
          }
        },
        "a3f1e96d6aca4a32810765f08a0cea32": {
          "model_module": "@jupyter-widgets/output",
          "model_name": "OutputModel",
          "model_module_version": "1.0.0",
          "state": {
            "_dom_classes": [],
            "_model_module": "@jupyter-widgets/output",
            "_model_module_version": "1.0.0",
            "_model_name": "OutputModel",
            "_view_count": null,
            "_view_module": "@jupyter-widgets/output",
            "_view_module_version": "1.0.0",
            "_view_name": "OutputView",
            "layout": "IPY_MODEL_59ace86137cc469a93976280da5dc1ea",
            "msg_id": "",
            "outputs": []
          }
        },
        "59ace86137cc469a93976280da5dc1ea": {
          "model_module": "@jupyter-widgets/base",
          "model_name": "LayoutModel",
          "model_module_version": "1.2.0",
          "state": {
            "_model_module": "@jupyter-widgets/base",
            "_model_module_version": "1.2.0",
            "_model_name": "LayoutModel",
            "_view_count": null,
            "_view_module": "@jupyter-widgets/base",
            "_view_module_version": "1.2.0",
            "_view_name": "LayoutView",
            "align_content": null,
            "align_items": null,
            "align_self": null,
            "border": null,
            "bottom": null,
            "display": null,
            "flex": null,
            "flex_flow": null,
            "grid_area": null,
            "grid_auto_columns": null,
            "grid_auto_flow": null,
            "grid_auto_rows": null,
            "grid_column": null,
            "grid_gap": null,
            "grid_row": null,
            "grid_template_areas": null,
            "grid_template_columns": null,
            "grid_template_rows": null,
            "height": null,
            "justify_content": null,
            "justify_items": null,
            "left": null,
            "margin": null,
            "max_height": null,
            "max_width": null,
            "min_height": null,
            "min_width": null,
            "object_fit": null,
            "object_position": null,
            "order": null,
            "overflow": null,
            "overflow_x": null,
            "overflow_y": null,
            "padding": null,
            "right": null,
            "top": null,
            "visibility": null,
            "width": null
          }
        }
      }
    }
  },
  "cells": [
    {
      "cell_type": "code",
      "source": [
        "!pip install numpy pandas scikit-learn matplotlib ipywidgets --quiet"
      ],
      "metadata": {
        "colab": {
          "base_uri": "https://localhost:8080/"
        },
        "id": "B0IuSRomK3gC",
        "outputId": "d3e510ca-3ea3-4ae5-aacc-3f3a14b1c04f"
      },
      "execution_count": null,
      "outputs": [
        {
          "output_type": "stream",
          "name": "stdout",
          "text": [
            "\u001b[2K   \u001b[90m━━━━━━━━━━━━━━━━━━━━━━━━━━━━━━━━━━━━━━━━\u001b[0m \u001b[32m1.6/1.6 MB\u001b[0m \u001b[31m13.9 MB/s\u001b[0m eta \u001b[36m0:00:00\u001b[0m\n",
            "\u001b[?25h"
          ]
        }
      ]
    },
    {
      "cell_type": "code",
      "source": [
        "import numpy as np\n",
        "import pandas as pd\n",
        "from sklearn import datasets\n",
        "from sklearn.model_selection import train_test_split\n",
        "from sklearn.linear_model import LogisticRegression\n",
        "from sklearn.metrics import accuracy_score, confusion_matrix\n",
        "import matplotlib.pyplot as plt"
      ],
      "metadata": {
        "id": "hA_Mu9eqK3iT"
      },
      "execution_count": null,
      "outputs": []
    },
    {
      "cell_type": "code",
      "source": [
        "from ipywidgets import interact, interactive, FloatSlider, Dropdown, IntSlider\n",
        "\n",
        "iris = datasets.load_iris()\n",
        "X = iris.data\n",
        "y = iris.target"
      ],
      "metadata": {
        "id": "JcYBeDcVK3kk"
      },
      "execution_count": null,
      "outputs": []
    },
    {
      "cell_type": "code",
      "source": [
        "def poison_attack(poison_percent=0.3, target_class=1, source_class=0):\n",
        "    # Split data\n",
        "    X_train, X_test, y_train, y_test = train_test_split(X, y, test_size=0.3, random_state=42)\n",
        "\n",
        "    # Poison the data\n",
        "    source_indices = np.where(y_train == source_class)[0]\n",
        "    num_poison = int(poison_percent * len(source_indices))\n",
        "    poison_indices = np.random.choice(source_indices, num_poison, replace=False)\n",
        "\n",
        "    y_train_poisoned = y_train.copy()\n",
        "    y_train_poisoned[poison_indices] = target_class  # Mislabel\n",
        "\n",
        "    # Train poisoned model\n",
        "    model = LogisticRegression(max_iter=200)\n",
        "    model.fit(X_train, y_train_poisoned)\n",
        "    y_pred = model.predict(X_test)\n",
        "\n",
        "    # Train clean model\n",
        "    clean_model = LogisticRegression(max_iter=200)\n",
        "    clean_model.fit(X_train, y_train)\n",
        "    clean_pred = clean_model.predict(X_test)\n",
        "\n",
        "    # Plot results\n",
        "    fig, (ax1, ax2) = plt.subplots(1, 2, figsize=(15, 5))\n",
        "\n",
        "    # Poisoned confusion matrix\n",
        "    cm_poison = confusion_matrix(y_test, y_pred)\n",
        "    ax1.imshow(cm_poison, cmap='Blues')\n",
        "    ax1.set_title(f\"Poisoned Model (Accuracy: {accuracy_score(y_test, y_pred):.2f})\")\n",
        "    ax1.set_xticks([0, 1, 2], iris.target_names)\n",
        "    ax1.set_yticks([0, 1, 2], iris.target_names)\n",
        "\n",
        "    # Clean confusion matrix\n",
        "    cm_clean = confusion_matrix(y_test, clean_pred)\n",
        "    ax2.imshow(cm_clean, cmap='Greens')\n",
        "    ax2.set_title(f\"Clean Model (Accuracy: {accuracy_score(y_test, clean_pred):.2f})\")\n",
        "    ax2.set_xticks([0, 1, 2], iris.target_names)\n",
        "    ax2.set_yticks([0, 1, 2], iris.target_names)\n",
        "\n",
        "    plt.show()\n",
        "\n",
        "    # output\n",
        "    print(f\"🔥 You poisoned {num_poison} {iris.target_names[source_class]} samples as {iris.target_names[target_class]}!\")\n",
        "    if accuracy_score(y_test, y_pred) < 0.8:\n",
        "        print(\"💀 Critical hit! The model is now deeply confused.\")\n",
        "    else:\n",
        "        print(\"⚠️ The model still kinda works... try poisoning more!\")"
      ],
      "metadata": {
        "id": "_2y7gZWRK3oF"
      },
      "execution_count": null,
      "outputs": []
    },
    {
      "cell_type": "code",
      "source": [
        "interact(\n",
        "    poison_attack,\n",
        "    poison_percent=FloatSlider(min=0.0, max=1.0, step=0.1, value=0.3, description=\"Poison %:\"),\n",
        "    target_class=Dropdown(options=[0, 1, 2], description=\"Target Class:\",\n",
        "                          value=1,\n",
        "                          tooltips=['Setosa', 'Versicolor', 'Virginica']),\n",
        "    source_class=Dropdown(options=[0, 1, 2], description=\"Source Class:\",\n",
        "                          value=0,\n",
        "                          tooltips=['Setosa', 'Versicolor', 'Virginica'])\n",
        ")"
      ],
      "metadata": {
        "colab": {
          "base_uri": "https://localhost:8080/",
          "height": 685,
          "referenced_widgets": [
            "6d01f9d8185a496c8d48a2cd35fded8b",
            "dbdc4a8052354eae838b9f8db3ac8ba9",
            "268bf6669fcf47cdb65dcb432c5a37d5",
            "e56d0f2d903a4409b72e1aaeff0ad156",
            "9499a1d8aaf341d5ae29bd44dcb1df92",
            "8c8bf2a2971148b69e5b4c47917bf7b6",
            "487947bbb1b341709824a0505ad15acd",
            "517b47da5639487fa165a19b4272dff5",
            "d48079302e5046ef9a6ed05edc277039",
            "2b5d996e2b904f8c99263ee1b6aca14a",
            "1f8e95a1a229453683c2399fcb9f3099",
            "017d6b54519547ac9f775145cc04714e",
            "13dee5246c2a43898c69c39540040878"
          ]
        },
        "id": "m5aJZ-owLGk8",
        "outputId": "bd93bb29-804e-432c-87a1-9f5fa45f6a4c"
      },
      "execution_count": null,
      "outputs": [
        {
          "output_type": "display_data",
          "data": {
            "text/plain": [
              "interactive(children=(FloatSlider(value=0.3, description='Poison %:', max=1.0), Dropdown(description='Target C…"
            ],
            "application/vnd.jupyter.widget-view+json": {
              "version_major": 2,
              "version_minor": 0,
              "model_id": "6d01f9d8185a496c8d48a2cd35fded8b"
            }
          },
          "metadata": {}
        },
        {
          "output_type": "execute_result",
          "data": {
            "text/plain": [
              "<function __main__.poison_attack(poison_percent=0.3, target_class=1, source_class=0)>"
            ],
            "text/html": [
              "<div style=\"max-width:800px; border: 1px solid var(--colab-border-color);\"><style>\n",
              "      pre.function-repr-contents {\n",
              "        overflow-x: auto;\n",
              "        padding: 8px 12px;\n",
              "        max-height: 500px;\n",
              "      }\n",
              "\n",
              "      pre.function-repr-contents.function-repr-contents-collapsed {\n",
              "        cursor: pointer;\n",
              "        max-height: 100px;\n",
              "      }\n",
              "    </style>\n",
              "    <pre style=\"white-space: initial; background:\n",
              "         var(--colab-secondary-surface-color); padding: 8px 12px;\n",
              "         border-bottom: 1px solid var(--colab-border-color);\"><b>poison_attack</b><br/>def poison_attack(poison_percent=0.3, target_class=1, source_class=0)</pre><pre class=\"function-repr-contents function-repr-contents-collapsed\" style=\"\"><a class=\"filepath\" style=\"display:none\" href=\"#\">/content/&lt;ipython-input-4-65e19fdcfcfa&gt;</a>&lt;no docstring&gt;</pre></div>"
            ]
          },
          "metadata": {},
          "execution_count": 5
        }
      ]
    },
    {
      "cell_type": "code",
      "source": [
        "__manual = True\n",
        "\n",
        "import ipywidgets as widgets\n",
        "button = widgets.Button(description=\"Surprise Me! (Random Attack)\")\n",
        "output = widgets.Output()\n",
        "\n",
        "def on_button_click(b):\n",
        "    with output:\n",
        "        poison_percent = np.random.uniform(0.1, 0.8)\n",
        "        source = np.random.choice([0, 1, 2])\n",
        "        target = np.random.choice([i for i in [0, 1, 2] if i != source])\n",
        "        print(f\"🎲 Random attack: Poison {poison_percent:.0%} of {iris.target_names[source]} as {iris.target_names[target]}!\")\n",
        "        poison_attack(poison_percent, target, source)\n",
        "\n",
        "button.on_click(on_button_click)\n",
        "display(button, output)"
      ],
      "metadata": {
        "colab": {
          "base_uri": "https://localhost:8080/",
          "height": 49,
          "referenced_widgets": [
            "c3d8e2c4c603447d8aac64535070020a",
            "bcdd5b381cd8473488da506b9b977f3c",
            "67fc747f7184444cbb2224c533341e92",
            "a3f1e96d6aca4a32810765f08a0cea32",
            "59ace86137cc469a93976280da5dc1ea"
          ]
        },
        "id": "f5wOwav8LMN1",
        "outputId": "762549d6-6ad5-416c-dd4b-4c96c07785fb"
      },
      "execution_count": null,
      "outputs": [
        {
          "output_type": "display_data",
          "data": {
            "text/plain": [
              "Button(description='Surprise Me! (Random Attack)', style=ButtonStyle())"
            ],
            "application/vnd.jupyter.widget-view+json": {
              "version_major": 2,
              "version_minor": 0,
              "model_id": "c3d8e2c4c603447d8aac64535070020a"
            }
          },
          "metadata": {}
        },
        {
          "output_type": "display_data",
          "data": {
            "text/plain": [
              "Output()"
            ],
            "application/vnd.jupyter.widget-view+json": {
              "version_major": 2,
              "version_minor": 0,
              "model_id": "a3f1e96d6aca4a32810765f08a0cea32"
            }
          },
          "metadata": {}
        }
      ]
    },
    {
      "cell_type": "code",
      "source": [],
      "metadata": {
        "id": "z4TIXa85LMmF"
      },
      "execution_count": null,
      "outputs": []
    }
  ]
}